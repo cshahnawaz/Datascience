{
  "nbformat": 4,
  "nbformat_minor": 0,
  "metadata": {
    "colab": {
      "name": "Untitled42.ipynb",
      "provenance": [],
      "collapsed_sections": []
    },
    "kernelspec": {
      "name": "python3",
      "display_name": "Python 3"
    },
    "language_info": {
      "name": "python"
    }
  },
  "cells": [
    {
      "cell_type": "code",
      "metadata": {
        "id": "fopUc8dVfMga"
      },
      "source": [
        "import pandas as pd"
      ],
      "execution_count": 24,
      "outputs": []
    },
    {
      "cell_type": "code",
      "metadata": {
        "id": "clg22bXQfYwW"
      },
      "source": [
        "url= 'https://raw.githubusercontent.com/PacktWorkshops/The-Data-Science-Workshop/master/Chapter04/Dataset/openml_phpZNNasq.csv'"
      ],
      "execution_count": 25,
      "outputs": []
    },
    {
      "cell_type": "code",
      "metadata": {
        "id": "vTAS_qE2f2UE"
      },
      "source": [
        "df= pd.read_csv(url)"
      ],
      "execution_count": 26,
      "outputs": []
    },
    {
      "cell_type": "code",
      "metadata": {
        "colab": {
          "base_uri": "https://localhost:8080/",
          "height": 439
        },
        "id": "57i3t8Huf-iK",
        "outputId": "38c9091a-3ec8-4ff7-bcd9-06f1187565be"
      },
      "source": [
        "df"
      ],
      "execution_count": 27,
      "outputs": [
        {
          "output_type": "execute_result",
          "data": {
            "text/html": [
              "<div>\n",
              "<style scoped>\n",
              "    .dataframe tbody tr th:only-of-type {\n",
              "        vertical-align: middle;\n",
              "    }\n",
              "\n",
              "    .dataframe tbody tr th {\n",
              "        vertical-align: top;\n",
              "    }\n",
              "\n",
              "    .dataframe thead th {\n",
              "        text-align: right;\n",
              "    }\n",
              "</style>\n",
              "<table border=\"1\" class=\"dataframe\">\n",
              "  <thead>\n",
              "    <tr style=\"text-align: right;\">\n",
              "      <th></th>\n",
              "      <th>animal</th>\n",
              "      <th>hair</th>\n",
              "      <th>feathers</th>\n",
              "      <th>eggs</th>\n",
              "      <th>milk</th>\n",
              "      <th>airborne</th>\n",
              "      <th>aquatic</th>\n",
              "      <th>predator</th>\n",
              "      <th>toothed</th>\n",
              "      <th>backbone</th>\n",
              "      <th>breathes</th>\n",
              "      <th>venomous</th>\n",
              "      <th>fins</th>\n",
              "      <th>legs</th>\n",
              "      <th>tail</th>\n",
              "      <th>domestic</th>\n",
              "      <th>catsize</th>\n",
              "      <th>type</th>\n",
              "    </tr>\n",
              "  </thead>\n",
              "  <tbody>\n",
              "    <tr>\n",
              "      <th>0</th>\n",
              "      <td>aardvark</td>\n",
              "      <td>True</td>\n",
              "      <td>False</td>\n",
              "      <td>False</td>\n",
              "      <td>True</td>\n",
              "      <td>False</td>\n",
              "      <td>False</td>\n",
              "      <td>True</td>\n",
              "      <td>True</td>\n",
              "      <td>True</td>\n",
              "      <td>True</td>\n",
              "      <td>False</td>\n",
              "      <td>False</td>\n",
              "      <td>4</td>\n",
              "      <td>False</td>\n",
              "      <td>False</td>\n",
              "      <td>True</td>\n",
              "      <td>mammal</td>\n",
              "    </tr>\n",
              "    <tr>\n",
              "      <th>1</th>\n",
              "      <td>antelope</td>\n",
              "      <td>True</td>\n",
              "      <td>False</td>\n",
              "      <td>False</td>\n",
              "      <td>True</td>\n",
              "      <td>False</td>\n",
              "      <td>False</td>\n",
              "      <td>False</td>\n",
              "      <td>True</td>\n",
              "      <td>True</td>\n",
              "      <td>True</td>\n",
              "      <td>False</td>\n",
              "      <td>False</td>\n",
              "      <td>4</td>\n",
              "      <td>True</td>\n",
              "      <td>False</td>\n",
              "      <td>True</td>\n",
              "      <td>mammal</td>\n",
              "    </tr>\n",
              "    <tr>\n",
              "      <th>2</th>\n",
              "      <td>bass</td>\n",
              "      <td>False</td>\n",
              "      <td>False</td>\n",
              "      <td>True</td>\n",
              "      <td>False</td>\n",
              "      <td>False</td>\n",
              "      <td>True</td>\n",
              "      <td>True</td>\n",
              "      <td>True</td>\n",
              "      <td>True</td>\n",
              "      <td>False</td>\n",
              "      <td>False</td>\n",
              "      <td>True</td>\n",
              "      <td>0</td>\n",
              "      <td>True</td>\n",
              "      <td>False</td>\n",
              "      <td>False</td>\n",
              "      <td>fish</td>\n",
              "    </tr>\n",
              "    <tr>\n",
              "      <th>3</th>\n",
              "      <td>bear</td>\n",
              "      <td>True</td>\n",
              "      <td>False</td>\n",
              "      <td>False</td>\n",
              "      <td>True</td>\n",
              "      <td>False</td>\n",
              "      <td>False</td>\n",
              "      <td>True</td>\n",
              "      <td>True</td>\n",
              "      <td>True</td>\n",
              "      <td>True</td>\n",
              "      <td>False</td>\n",
              "      <td>False</td>\n",
              "      <td>4</td>\n",
              "      <td>False</td>\n",
              "      <td>False</td>\n",
              "      <td>True</td>\n",
              "      <td>mammal</td>\n",
              "    </tr>\n",
              "    <tr>\n",
              "      <th>4</th>\n",
              "      <td>boar</td>\n",
              "      <td>True</td>\n",
              "      <td>False</td>\n",
              "      <td>False</td>\n",
              "      <td>True</td>\n",
              "      <td>False</td>\n",
              "      <td>False</td>\n",
              "      <td>True</td>\n",
              "      <td>True</td>\n",
              "      <td>True</td>\n",
              "      <td>True</td>\n",
              "      <td>False</td>\n",
              "      <td>False</td>\n",
              "      <td>4</td>\n",
              "      <td>True</td>\n",
              "      <td>False</td>\n",
              "      <td>True</td>\n",
              "      <td>mammal</td>\n",
              "    </tr>\n",
              "    <tr>\n",
              "      <th>...</th>\n",
              "      <td>...</td>\n",
              "      <td>...</td>\n",
              "      <td>...</td>\n",
              "      <td>...</td>\n",
              "      <td>...</td>\n",
              "      <td>...</td>\n",
              "      <td>...</td>\n",
              "      <td>...</td>\n",
              "      <td>...</td>\n",
              "      <td>...</td>\n",
              "      <td>...</td>\n",
              "      <td>...</td>\n",
              "      <td>...</td>\n",
              "      <td>...</td>\n",
              "      <td>...</td>\n",
              "      <td>...</td>\n",
              "      <td>...</td>\n",
              "      <td>...</td>\n",
              "    </tr>\n",
              "    <tr>\n",
              "      <th>96</th>\n",
              "      <td>wallaby</td>\n",
              "      <td>True</td>\n",
              "      <td>False</td>\n",
              "      <td>False</td>\n",
              "      <td>True</td>\n",
              "      <td>False</td>\n",
              "      <td>False</td>\n",
              "      <td>False</td>\n",
              "      <td>True</td>\n",
              "      <td>True</td>\n",
              "      <td>True</td>\n",
              "      <td>False</td>\n",
              "      <td>False</td>\n",
              "      <td>2</td>\n",
              "      <td>True</td>\n",
              "      <td>False</td>\n",
              "      <td>True</td>\n",
              "      <td>mammal</td>\n",
              "    </tr>\n",
              "    <tr>\n",
              "      <th>97</th>\n",
              "      <td>wasp</td>\n",
              "      <td>True</td>\n",
              "      <td>False</td>\n",
              "      <td>True</td>\n",
              "      <td>False</td>\n",
              "      <td>True</td>\n",
              "      <td>False</td>\n",
              "      <td>False</td>\n",
              "      <td>False</td>\n",
              "      <td>False</td>\n",
              "      <td>True</td>\n",
              "      <td>True</td>\n",
              "      <td>False</td>\n",
              "      <td>6</td>\n",
              "      <td>False</td>\n",
              "      <td>False</td>\n",
              "      <td>False</td>\n",
              "      <td>insect</td>\n",
              "    </tr>\n",
              "    <tr>\n",
              "      <th>98</th>\n",
              "      <td>wolf</td>\n",
              "      <td>True</td>\n",
              "      <td>False</td>\n",
              "      <td>False</td>\n",
              "      <td>True</td>\n",
              "      <td>False</td>\n",
              "      <td>False</td>\n",
              "      <td>True</td>\n",
              "      <td>True</td>\n",
              "      <td>True</td>\n",
              "      <td>True</td>\n",
              "      <td>False</td>\n",
              "      <td>False</td>\n",
              "      <td>4</td>\n",
              "      <td>True</td>\n",
              "      <td>False</td>\n",
              "      <td>True</td>\n",
              "      <td>mammal</td>\n",
              "    </tr>\n",
              "    <tr>\n",
              "      <th>99</th>\n",
              "      <td>worm</td>\n",
              "      <td>False</td>\n",
              "      <td>False</td>\n",
              "      <td>True</td>\n",
              "      <td>False</td>\n",
              "      <td>False</td>\n",
              "      <td>False</td>\n",
              "      <td>False</td>\n",
              "      <td>False</td>\n",
              "      <td>False</td>\n",
              "      <td>True</td>\n",
              "      <td>False</td>\n",
              "      <td>False</td>\n",
              "      <td>0</td>\n",
              "      <td>False</td>\n",
              "      <td>False</td>\n",
              "      <td>False</td>\n",
              "      <td>invertebrate</td>\n",
              "    </tr>\n",
              "    <tr>\n",
              "      <th>100</th>\n",
              "      <td>wren</td>\n",
              "      <td>False</td>\n",
              "      <td>True</td>\n",
              "      <td>True</td>\n",
              "      <td>False</td>\n",
              "      <td>True</td>\n",
              "      <td>False</td>\n",
              "      <td>False</td>\n",
              "      <td>False</td>\n",
              "      <td>True</td>\n",
              "      <td>True</td>\n",
              "      <td>False</td>\n",
              "      <td>False</td>\n",
              "      <td>2</td>\n",
              "      <td>True</td>\n",
              "      <td>False</td>\n",
              "      <td>False</td>\n",
              "      <td>bird</td>\n",
              "    </tr>\n",
              "  </tbody>\n",
              "</table>\n",
              "<p>101 rows × 18 columns</p>\n",
              "</div>"
            ],
            "text/plain": [
              "       animal   hair  feathers   eggs  ...   tail  domestic  catsize          type\n",
              "0    aardvark   True     False  False  ...  False     False     True        mammal\n",
              "1    antelope   True     False  False  ...   True     False     True        mammal\n",
              "2        bass  False     False   True  ...   True     False    False          fish\n",
              "3        bear   True     False  False  ...  False     False     True        mammal\n",
              "4        boar   True     False  False  ...   True     False     True        mammal\n",
              "..        ...    ...       ...    ...  ...    ...       ...      ...           ...\n",
              "96    wallaby   True     False  False  ...   True     False     True        mammal\n",
              "97       wasp   True     False   True  ...  False     False    False        insect\n",
              "98       wolf   True     False  False  ...   True     False     True        mammal\n",
              "99       worm  False     False   True  ...  False     False    False  invertebrate\n",
              "100      wren  False      True   True  ...   True     False    False          bird\n",
              "\n",
              "[101 rows x 18 columns]"
            ]
          },
          "metadata": {
            "tags": []
          },
          "execution_count": 27
        }
      ]
    },
    {
      "cell_type": "code",
      "metadata": {
        "colab": {
          "base_uri": "https://localhost:8080/"
        },
        "id": "2JHqDTBif_RW",
        "outputId": "719d9a0a-aef6-45e6-c749-40ca58940897"
      },
      "source": [
        "df.shape"
      ],
      "execution_count": 28,
      "outputs": [
        {
          "output_type": "execute_result",
          "data": {
            "text/plain": [
              "(101, 18)"
            ]
          },
          "metadata": {
            "tags": []
          },
          "execution_count": 28
        }
      ]
    },
    {
      "cell_type": "code",
      "metadata": {
        "id": "CbIAqfODgHKp"
      },
      "source": [
        "# Remove the animal column\n",
        "df.drop(columns='animal' , inplace=True)"
      ],
      "execution_count": 29,
      "outputs": []
    },
    {
      "cell_type": "code",
      "metadata": {
        "id": "7OJLPzvdgZFW"
      },
      "source": [
        "# Extract the type columns\n",
        "y= df.pop('type')"
      ],
      "execution_count": 30,
      "outputs": []
    },
    {
      "cell_type": "code",
      "metadata": {
        "id": "sgOyBo0kgjsZ"
      },
      "source": [
        "# Split the datasets in train an test sets\n",
        "from sklearn.model_selection import train_test_split\n",
        "\n",
        "x_train,x_test,y_train,y_test= train_test_split(df,y,test_size=0.4 , random_state=188)"
      ],
      "execution_count": 31,
      "outputs": []
    },
    {
      "cell_type": "code",
      "metadata": {
        "id": "iDttNITOg_kh"
      },
      "source": [
        "from sklearn.ensemble import RandomForestClassifier\n",
        "rf_model= RandomForestClassifier(random_state=42, n_estimators=10)"
      ],
      "execution_count": 32,
      "outputs": []
    },
    {
      "cell_type": "code",
      "metadata": {
        "colab": {
          "base_uri": "https://localhost:8080/"
        },
        "id": "WghXgBdPhO7X",
        "outputId": "8f59253d-2d91-431a-f166-372d2e4e62c6"
      },
      "source": [
        "rf_model.fit(x_train, y_train)"
      ],
      "execution_count": 33,
      "outputs": [
        {
          "output_type": "execute_result",
          "data": {
            "text/plain": [
              "RandomForestClassifier(bootstrap=True, ccp_alpha=0.0, class_weight=None,\n",
              "                       criterion='gini', max_depth=None, max_features='auto',\n",
              "                       max_leaf_nodes=None, max_samples=None,\n",
              "                       min_impurity_decrease=0.0, min_impurity_split=None,\n",
              "                       min_samples_leaf=1, min_samples_split=2,\n",
              "                       min_weight_fraction_leaf=0.0, n_estimators=10,\n",
              "                       n_jobs=None, oob_score=False, random_state=42, verbose=0,\n",
              "                       warm_start=False)"
            ]
          },
          "metadata": {
            "tags": []
          },
          "execution_count": 33
        }
      ]
    },
    {
      "cell_type": "code",
      "metadata": {
        "id": "Ei3YcOkshciw"
      },
      "source": [
        "# making predictions \n",
        "\n",
        "train_preds= rf_model.predict(x_train)"
      ],
      "execution_count": 34,
      "outputs": []
    },
    {
      "cell_type": "code",
      "metadata": {
        "colab": {
          "base_uri": "https://localhost:8080/"
        },
        "id": "ngj0lKZzhoVc",
        "outputId": "92a8e2cc-fbe4-4860-9bf6-06650ac393ad"
      },
      "source": [
        "train_preds"
      ],
      "execution_count": 35,
      "outputs": [
        {
          "output_type": "execute_result",
          "data": {
            "text/plain": [
              "array(['mammal', 'mammal', 'mammal', 'fish', 'mammal', 'insect', 'fish',\n",
              "       'bird', 'mammal', 'mammal', 'fish', 'bird', 'reptile', 'bird',\n",
              "       'fish', 'mammal', 'mammal', 'bird', 'bird', 'mammal', 'bird',\n",
              "       'bird', 'mammal', 'invertebrate', 'reptile', 'invertebrate',\n",
              "       'fish', 'bird', 'mammal', 'mammal', 'amphibian', 'mammal',\n",
              "       'invertebrate', 'mammal', 'mammal', 'insect', 'mammal', 'fish',\n",
              "       'invertebrate', 'mammal', 'invertebrate', 'invertebrate', 'insect',\n",
              "       'amphibian', 'mammal', 'reptile', 'amphibian', 'invertebrate',\n",
              "       'mammal', 'fish', 'bird', 'mammal', 'mammal', 'bird', 'mammal',\n",
              "       'mammal', 'fish', 'mammal', 'bird', 'fish'], dtype=object)"
            ]
          },
          "metadata": {
            "tags": []
          },
          "execution_count": 35
        }
      ]
    },
    {
      "cell_type": "code",
      "metadata": {
        "id": "6ZSDFUJxhtLy"
      },
      "source": [
        "from sklearn.metrics import accuracy_score"
      ],
      "execution_count": 36,
      "outputs": []
    },
    {
      "cell_type": "code",
      "metadata": {
        "colab": {
          "base_uri": "https://localhost:8080/"
        },
        "id": "_kv1Ubc3h7Uo",
        "outputId": "0208f777-0a22-425d-bf9e-70aabb4a3421"
      },
      "source": [
        "train_acc = accuracy_score(y_train, train_preds )\n",
        "print(train_acc)"
      ],
      "execution_count": 37,
      "outputs": [
        {
          "output_type": "stream",
          "text": [
            "1.0\n"
          ],
          "name": "stdout"
        }
      ]
    },
    {
      "cell_type": "code",
      "metadata": {
        "colab": {
          "base_uri": "https://localhost:8080/"
        },
        "id": "Q-NTysJDiOp8",
        "outputId": "15791be1-37b7-4f3a-e282-801ce177fa04"
      },
      "source": [
        "test_preds= rf_model.predict(x_test)\n",
        "# making predictions on test set \n",
        "test_acc= accuracy_score(y_test, test_preds)\n",
        "print(test_acc)"
      ],
      "execution_count": 38,
      "outputs": [
        {
          "output_type": "stream",
          "text": [
            "0.8780487804878049\n"
          ],
          "name": "stdout"
        }
      ]
    },
    {
      "cell_type": "markdown",
      "metadata": {
        "id": "R8pD1CBxjNZR"
      },
      "source": [
        ""
      ]
    },
    {
      "cell_type": "code",
      "metadata": {
        "id": "psAVLwEkicXJ"
      },
      "source": [
        "#Tuning n_estimators to reduce overfittig "
      ],
      "execution_count": 39,
      "outputs": []
    },
    {
      "cell_type": "code",
      "metadata": {
        "colab": {
          "base_uri": "https://localhost:8080/"
        },
        "id": "i9s37I3hjPfB",
        "outputId": "f207fe03-03ae-4199-c624-f12bc6fcb66d"
      },
      "source": [
        "#Instantiate Random forest classifier with andom_state=42 and n_estimators = 1\n",
        "\n",
        "rf_model= RandomForestClassifier(random_state=42 , n_estimators=1)\n",
        "rf_model.fit(x_train , y_train)"
      ],
      "execution_count": 40,
      "outputs": [
        {
          "output_type": "execute_result",
          "data": {
            "text/plain": [
              "RandomForestClassifier(bootstrap=True, ccp_alpha=0.0, class_weight=None,\n",
              "                       criterion='gini', max_depth=None, max_features='auto',\n",
              "                       max_leaf_nodes=None, max_samples=None,\n",
              "                       min_impurity_decrease=0.0, min_impurity_split=None,\n",
              "                       min_samples_leaf=1, min_samples_split=2,\n",
              "                       min_weight_fraction_leaf=0.0, n_estimators=1,\n",
              "                       n_jobs=None, oob_score=False, random_state=42, verbose=0,\n",
              "                       warm_start=False)"
            ]
          },
          "metadata": {
            "tags": []
          },
          "execution_count": 40
        }
      ]
    },
    {
      "cell_type": "code",
      "metadata": {
        "id": "Q-0jVu5kjwgc"
      },
      "source": [
        "#making prredictions\n",
        "train_preds = rf_model.predict(x_train) "
      ],
      "execution_count": 41,
      "outputs": []
    },
    {
      "cell_type": "code",
      "metadata": {
        "id": "-xi2BlrTj_vr"
      },
      "source": [
        "test_preds = rf_model.predict(x_test)"
      ],
      "execution_count": 42,
      "outputs": []
    },
    {
      "cell_type": "code",
      "metadata": {
        "id": "6zukCdKfkGWS"
      },
      "source": [
        "#calculate accuuracy \n",
        "train_acc = accuracy_score(y_train ,train_preds)\n",
        "test_acc= accuracy_score(y_test , test_preds)"
      ],
      "execution_count": 43,
      "outputs": []
    },
    {
      "cell_type": "code",
      "metadata": {
        "id": "Ok_aFGM8qhnJ",
        "colab": {
          "base_uri": "https://localhost:8080/"
        },
        "outputId": "febe580e-9aac-4911-8890-c561be685505"
      },
      "source": [
        "print (train_acc)\n",
        "print(test_acc)"
      ],
      "execution_count": 44,
      "outputs": [
        {
          "output_type": "stream",
          "text": [
            "0.9166666666666666\n",
            "0.8048780487804879\n"
          ],
          "name": "stdout"
        }
      ]
    },
    {
      "cell_type": "code",
      "metadata": {
        "id": "NBRaO24lrWih"
      },
      "source": [
        ""
      ],
      "execution_count": null,
      "outputs": []
    },
    {
      "cell_type": "markdown",
      "metadata": {
        "id": "RHn5VltmrdmB"
      },
      "source": [
        "Tuning max_depth to reduce overfitting"
      ]
    },
    {
      "cell_type": "code",
      "metadata": {
        "id": "TJKJaMFHrifJ"
      },
      "source": [
        "# Instantiate randomforestclassifier with random_state=42 , n_estimators=30, max_depths=5"
      ],
      "execution_count": 45,
      "outputs": []
    },
    {
      "cell_type": "code",
      "metadata": {
        "id": "JSfYrUaFrwd4"
      },
      "source": [
        "rf_model = RandomForestClassifier(random_state=42, n_estimators=30 , max_depth=5)"
      ],
      "execution_count": 46,
      "outputs": []
    },
    {
      "cell_type": "code",
      "metadata": {
        "colab": {
          "base_uri": "https://localhost:8080/"
        },
        "id": "vpbohCvcsAWZ",
        "outputId": "01cd0afe-48ff-4e2b-e3f6-ca487b9b3d69"
      },
      "source": [
        "rf_model.fit(x_train , y_train)"
      ],
      "execution_count": 47,
      "outputs": [
        {
          "output_type": "execute_result",
          "data": {
            "text/plain": [
              "RandomForestClassifier(bootstrap=True, ccp_alpha=0.0, class_weight=None,\n",
              "                       criterion='gini', max_depth=5, max_features='auto',\n",
              "                       max_leaf_nodes=None, max_samples=None,\n",
              "                       min_impurity_decrease=0.0, min_impurity_split=None,\n",
              "                       min_samples_leaf=1, min_samples_split=2,\n",
              "                       min_weight_fraction_leaf=0.0, n_estimators=30,\n",
              "                       n_jobs=None, oob_score=False, random_state=42, verbose=0,\n",
              "                       warm_start=False)"
            ]
          },
          "metadata": {
            "tags": []
          },
          "execution_count": 47
        }
      ]
    },
    {
      "cell_type": "code",
      "metadata": {
        "id": "Go_P99wIsFIP"
      },
      "source": [
        "#make predictions \n",
        "train_preds = rf_model.predict(x_train)\n",
        "test_preds= rf_model.predict(x_test)"
      ],
      "execution_count": 50,
      "outputs": []
    },
    {
      "cell_type": "code",
      "metadata": {
        "id": "IAxNoBqxsGtR"
      },
      "source": [
        "#Instantiate another random forest classifier with random_state=42 , n_estimators = 30 , max_depth = 2\n",
        "\n",
        "rf_model2= RandomForestClassifier(random_state=42, n_estimators=30 , max_depth=2)"
      ],
      "execution_count": 51,
      "outputs": []
    },
    {
      "cell_type": "code",
      "metadata": {
        "colab": {
          "base_uri": "https://localhost:8080/"
        },
        "id": "PAABItPYtq7l",
        "outputId": "701b2b72-f3aa-42b6-8df8-15864eb17984"
      },
      "source": [
        "#fit the model \n",
        "\n",
        "rf_model2.fit(x_train , y_train)"
      ],
      "execution_count": 52,
      "outputs": [
        {
          "output_type": "execute_result",
          "data": {
            "text/plain": [
              "RandomForestClassifier(bootstrap=True, ccp_alpha=0.0, class_weight=None,\n",
              "                       criterion='gini', max_depth=2, max_features='auto',\n",
              "                       max_leaf_nodes=None, max_samples=None,\n",
              "                       min_impurity_decrease=0.0, min_impurity_split=None,\n",
              "                       min_samples_leaf=1, min_samples_split=2,\n",
              "                       min_weight_fraction_leaf=0.0, n_estimators=30,\n",
              "                       n_jobs=None, oob_score=False, random_state=42, verbose=0,\n",
              "                       warm_start=False)"
            ]
          },
          "metadata": {
            "tags": []
          },
          "execution_count": 52
        }
      ]
    },
    {
      "cell_type": "code",
      "metadata": {
        "id": "zDy_GMn3typL"
      },
      "source": [
        "#make ppredictions"
      ],
      "execution_count": 53,
      "outputs": []
    },
    {
      "cell_type": "code",
      "metadata": {
        "id": "SiKJTA5buN8w"
      },
      "source": [
        "train_pred2 = rf_model2.predict(x_train)\n",
        "test_pred2= rf_model2.predict(x_test)"
      ],
      "execution_count": 54,
      "outputs": []
    },
    {
      "cell_type": "code",
      "metadata": {
        "id": "IuaXfNQuucNY"
      },
      "source": [
        "#calculate accuracy\n",
        "train_acc2= accuracy_score(y_train, train_pred2)\n",
        "test_acc2= accuracy_score(y_test , test_pred2)"
      ],
      "execution_count": 55,
      "outputs": []
    },
    {
      "cell_type": "code",
      "metadata": {
        "colab": {
          "base_uri": "https://localhost:8080/"
        },
        "id": "kwlzvnEyu4he",
        "outputId": "78c36ed8-e21a-4897-a08b-29c13dc9d69b"
      },
      "source": [
        "print(train_acc2)\n",
        "print(test_acc2)"
      ],
      "execution_count": 57,
      "outputs": [
        {
          "output_type": "stream",
          "text": [
            "0.9\n",
            "0.8292682926829268\n"
          ],
          "name": "stdout"
        }
      ]
    },
    {
      "cell_type": "code",
      "metadata": {
        "id": "KiDuqFdWu9OJ"
      },
      "source": [
        ""
      ],
      "execution_count": null,
      "outputs": []
    },
    {
      "cell_type": "markdown",
      "metadata": {
        "id": "T2tilvrsvCfc"
      },
      "source": [
        "**Tuning min_samples_leaf**"
      ]
    },
    {
      "cell_type": "code",
      "metadata": {
        "id": "XKrq8_O3vNze"
      },
      "source": [
        "#Instantiate randomforestclassifier with minimum sampleleaf = 3"
      ],
      "execution_count": 58,
      "outputs": []
    },
    {
      "cell_type": "code",
      "metadata": {
        "id": "_BYO1wfsvY1Y"
      },
      "source": [
        "rf_model= RandomForestClassifier(random_state=42, n_estimators=30, max_depth=2, min_samples_leaf=3)"
      ],
      "execution_count": 61,
      "outputs": []
    },
    {
      "cell_type": "code",
      "metadata": {
        "id": "rAF7sZiyvywx"
      },
      "source": [
        "rf_model.fit(x_train , y_train)\n",
        "#make predictions\n",
        "\n",
        "train_preds= rf_model.predict(x_train)\n",
        "test_preds= rf_model.predict(x_test)"
      ],
      "execution_count": 63,
      "outputs": []
    },
    {
      "cell_type": "code",
      "metadata": {
        "id": "qBTjAnoYwW-Z"
      },
      "source": [
        "#accuracy scorre\n",
        "train_acc = accuracy_score(y_train, train_preds)\n",
        "test_acc= accuracy_score(y_test, test_preds)\n"
      ],
      "execution_count": 64,
      "outputs": []
    },
    {
      "cell_type": "code",
      "metadata": {
        "colab": {
          "base_uri": "https://localhost:8080/"
        },
        "id": "oscQDMRrxe9B",
        "outputId": "79267c21-3186-4d7f-e652-a16d29987b89"
      },
      "source": [
        "print(train_acc)\n",
        "print(test_acc)"
      ],
      "execution_count": 65,
      "outputs": [
        {
          "output_type": "stream",
          "text": [
            "0.8333333333333334\n",
            "0.8048780487804879\n"
          ],
          "name": "stdout"
        }
      ]
    },
    {
      "cell_type": "code",
      "metadata": {
        "id": "XiCx2NzQxkH3"
      },
      "source": [
        "#Instantiate another random forest classifier with minimuum sample leaf = 7 \n",
        "\n",
        "rf_model2 = RandomForestClassifier(random_state=42 , n_estimators=30, max_depth = 2 , min_samples_leaf=7)"
      ],
      "execution_count": 66,
      "outputs": []
    },
    {
      "cell_type": "code",
      "metadata": {
        "colab": {
          "base_uri": "https://localhost:8080/"
        },
        "id": "PoqJoW8EymWg",
        "outputId": "f3ea285f-c36b-41b8-f9c7-07aad9eddca3"
      },
      "source": [
        "#fit the model\n",
        "rf_model2.fit(x_train , y_train )"
      ],
      "execution_count": 67,
      "outputs": [
        {
          "output_type": "execute_result",
          "data": {
            "text/plain": [
              "RandomForestClassifier(bootstrap=True, ccp_alpha=0.0, class_weight=None,\n",
              "                       criterion='gini', max_depth=2, max_features='auto',\n",
              "                       max_leaf_nodes=None, max_samples=None,\n",
              "                       min_impurity_decrease=0.0, min_impurity_split=None,\n",
              "                       min_samples_leaf=7, min_samples_split=2,\n",
              "                       min_weight_fraction_leaf=0.0, n_estimators=30,\n",
              "                       n_jobs=None, oob_score=False, random_state=42, verbose=0,\n",
              "                       warm_start=False)"
            ]
          },
          "metadata": {
            "tags": []
          },
          "execution_count": 67
        }
      ]
    },
    {
      "cell_type": "code",
      "metadata": {
        "id": "otRccDtEy0Im"
      },
      "source": [
        "#make predictions \n",
        "train_preds2= rf_model2.predict(x_train)\n",
        "test_preds2= rf_model2.predict(x_test)"
      ],
      "execution_count": 71,
      "outputs": []
    },
    {
      "cell_type": "code",
      "metadata": {
        "id": "o3qU67YqzE99"
      },
      "source": [
        "#calulate accuracy\n",
        "train_acc2= accuracy_score(y_train, train_preds2)"
      ],
      "execution_count": 72,
      "outputs": []
    },
    {
      "cell_type": "code",
      "metadata": {
        "id": "CzD7x_VOzUZG"
      },
      "source": [
        "test_acc2= accuracy_score(y_test , test_pred2)"
      ],
      "execution_count": 73,
      "outputs": []
    },
    {
      "cell_type": "code",
      "metadata": {
        "colab": {
          "base_uri": "https://localhost:8080/"
        },
        "id": "nxg6-EY-zdQe",
        "outputId": "50389f09-521f-4645-d1ac-657da9954ec0"
      },
      "source": [
        "print(train_acc2)\n",
        "print(test_acc2)"
      ],
      "execution_count": 75,
      "outputs": [
        {
          "output_type": "stream",
          "text": [
            "0.8\n",
            "0.8292682926829268\n"
          ],
          "name": "stdout"
        }
      ]
    },
    {
      "cell_type": "code",
      "metadata": {
        "id": "AZ5CTOYEziWV"
      },
      "source": [
        ""
      ],
      "execution_count": null,
      "outputs": []
    },
    {
      "cell_type": "markdown",
      "metadata": {
        "id": "l8LFLfU6zpEL"
      },
      "source": [
        "**Tune max features**"
      ]
    },
    {
      "cell_type": "code",
      "metadata": {
        "id": "qC0LdODrzrxx"
      },
      "source": [
        "# Instantiate RandmoForest Classifier wit max_features = 10"
      ],
      "execution_count": 76,
      "outputs": []
    },
    {
      "cell_type": "code",
      "metadata": {
        "id": "5wjR_U8Ez2dE"
      },
      "source": [
        "rf_model = RandomForestClassifier(random_state=42 , n_estimators=30, max_depth=2 , min_samples_leaf=7 , max_features=10)"
      ],
      "execution_count": 77,
      "outputs": []
    },
    {
      "cell_type": "code",
      "metadata": {
        "colab": {
          "base_uri": "https://localhost:8080/"
        },
        "id": "L_KlF5PQ0D9L",
        "outputId": "1c77b817-efdb-4101-9114-b5573e2fb740"
      },
      "source": [
        "rf_model.fit(x_train, y_train)"
      ],
      "execution_count": 78,
      "outputs": [
        {
          "output_type": "execute_result",
          "data": {
            "text/plain": [
              "RandomForestClassifier(bootstrap=True, ccp_alpha=0.0, class_weight=None,\n",
              "                       criterion='gini', max_depth=2, max_features=10,\n",
              "                       max_leaf_nodes=None, max_samples=None,\n",
              "                       min_impurity_decrease=0.0, min_impurity_split=None,\n",
              "                       min_samples_leaf=7, min_samples_split=2,\n",
              "                       min_weight_fraction_leaf=0.0, n_estimators=30,\n",
              "                       n_jobs=None, oob_score=False, random_state=42, verbose=0,\n",
              "                       warm_start=False)"
            ]
          },
          "metadata": {
            "tags": []
          },
          "execution_count": 78
        }
      ]
    },
    {
      "cell_type": "code",
      "metadata": {
        "id": "hbroq12l0NwV"
      },
      "source": [
        "#make predictions \n",
        "train_preds = rf_model.predict(x_train)\n",
        "test_preds = rf_model.predict(x_test)"
      ],
      "execution_count": 79,
      "outputs": []
    },
    {
      "cell_type": "code",
      "metadata": {
        "id": "HwSgCERh0ekd"
      },
      "source": [
        "#calculate accuracy "
      ],
      "execution_count": 80,
      "outputs": []
    },
    {
      "cell_type": "code",
      "metadata": {
        "id": "vpIczmqy0hK2"
      },
      "source": [
        "train_acc = accuracy_score(y_train , train_preds)\n",
        "test_acc= accuracy_score(y_test  , test_preds)"
      ],
      "execution_count": 82,
      "outputs": []
    },
    {
      "cell_type": "code",
      "metadata": {
        "colab": {
          "base_uri": "https://localhost:8080/"
        },
        "id": "eklbJZab0wCz",
        "outputId": "d1853d0d-9b85-44ff-f2ad-507e21486489"
      },
      "source": [
        "print(train_acc)\n",
        "print(test_acc)"
      ],
      "execution_count": 83,
      "outputs": [
        {
          "output_type": "stream",
          "text": [
            "0.85\n",
            "0.8048780487804879\n"
          ],
          "name": "stdout"
        }
      ]
    },
    {
      "cell_type": "code",
      "metadata": {
        "id": "oDzA7pE40_cJ"
      },
      "source": [
        "#Instatiate another random forest classifier with max_features = 0.2"
      ],
      "execution_count": 84,
      "outputs": []
    },
    {
      "cell_type": "code",
      "metadata": {
        "id": "-160ulv_1ZY5"
      },
      "source": [
        "rf_model = RandomForestClassifier(random_state=42 , n_estimators=30, max_depth=2 , min_samples_leaf=7 , max_features=0.2)"
      ],
      "execution_count": 85,
      "outputs": []
    },
    {
      "cell_type": "code",
      "metadata": {
        "colab": {
          "base_uri": "https://localhost:8080/"
        },
        "id": "APiVAqsr1cbT",
        "outputId": "b77ec206-d143-49a1-849c-37c97b318ef5"
      },
      "source": [
        "rf_model.fit(x_train, y_train)"
      ],
      "execution_count": 86,
      "outputs": [
        {
          "output_type": "execute_result",
          "data": {
            "text/plain": [
              "RandomForestClassifier(bootstrap=True, ccp_alpha=0.0, class_weight=None,\n",
              "                       criterion='gini', max_depth=2, max_features=0.2,\n",
              "                       max_leaf_nodes=None, max_samples=None,\n",
              "                       min_impurity_decrease=0.0, min_impurity_split=None,\n",
              "                       min_samples_leaf=7, min_samples_split=2,\n",
              "                       min_weight_fraction_leaf=0.0, n_estimators=30,\n",
              "                       n_jobs=None, oob_score=False, random_state=42, verbose=0,\n",
              "                       warm_start=False)"
            ]
          },
          "metadata": {
            "tags": []
          },
          "execution_count": 86
        }
      ]
    },
    {
      "cell_type": "code",
      "metadata": {
        "id": "8tOUGn-Q1ifD"
      },
      "source": [
        "#make predictions"
      ],
      "execution_count": 87,
      "outputs": []
    },
    {
      "cell_type": "code",
      "metadata": {
        "id": "qyMirNo01m-c"
      },
      "source": [
        "train_preds2= rf_model.predict(x_train)\n",
        "test_preds2 = rf_model.predict(x_test)"
      ],
      "execution_count": 88,
      "outputs": []
    },
    {
      "cell_type": "code",
      "metadata": {
        "id": "6hVRLLMX15Ev"
      },
      "source": [
        "#Calculate accuracy "
      ],
      "execution_count": 89,
      "outputs": []
    },
    {
      "cell_type": "code",
      "metadata": {
        "colab": {
          "base_uri": "https://localhost:8080/"
        },
        "id": "siooLyGH18d4",
        "outputId": "10d362cd-047d-46cb-d4b4-77c1ce83a9a8"
      },
      "source": [
        "train_acc2 = accuracy_score(y_train, train_pred2)\n",
        "test_acc2= accuracy_score(y_test , test_pred2)\n",
        "\n",
        "print(train_acc2)\n",
        "print(test_acc2)"
      ],
      "execution_count": 90,
      "outputs": [
        {
          "output_type": "stream",
          "text": [
            "0.9\n",
            "0.8292682926829268\n"
          ],
          "name": "stdout"
        }
      ]
    },
    {
      "cell_type": "code",
      "metadata": {
        "id": "ZJrRchac2OmS"
      },
      "source": [
        ""
      ],
      "execution_count": null,
      "outputs": []
    }
  ]
}